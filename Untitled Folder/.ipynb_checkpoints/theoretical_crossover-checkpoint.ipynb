{
 "cells": [
  {
   "cell_type": "code",
   "execution_count": 219,
   "metadata": {},
   "outputs": [],
   "source": [
    "import sys\n",
    "sys.path.append('/home/james/Dropbox (MIT)/All_Resourceful/dag_planner/dag-plan')\n",
    "from app.views import solve_LP\n",
    "import seaborn as sns\n",
    "import matplotlib\n",
    "import matplotlib.pyplot as plt\n",
    "%matplotlib inline"
   ]
  },
  {
   "cell_type": "code",
   "execution_count": 252,
   "metadata": {},
   "outputs": [
    {
     "ename": "TypeError",
     "evalue": "'str' object is not callable",
     "output_type": "error",
     "traceback": [
      "\u001b[0;31m-----------------------------------------------------------------------\u001b[0m",
      "\u001b[0;31mTypeError\u001b[0m                             Traceback (most recent call last)",
      "\u001b[0;32m<ipython-input-252-c6513311d2a0>\u001b[0m in \u001b[0;36m<module>\u001b[0;34m()\u001b[0m\n\u001b[1;32m     16\u001b[0m            for i in speeds]\n\u001b[1;32m     17\u001b[0m     \u001b[0;32mreturn\u001b[0m \u001b[0;34m[\u001b[0m\u001b[0;34m(\u001b[0m\u001b[0mi\u001b[0m\u001b[0;34m[\u001b[0m\u001b[0;36m0\u001b[0m\u001b[0;34m]\u001b[0m\u001b[0;34m,\u001b[0m\u001b[0mi\u001b[0m\u001b[0;34m[\u001b[0m\u001b[0;36m1\u001b[0m\u001b[0;34m]\u001b[0m\u001b[0;34m)\u001b[0m \u001b[0;32mfor\u001b[0m \u001b[0mi\u001b[0m \u001b[0;32min\u001b[0m \u001b[0mres\u001b[0m\u001b[0;34m]\u001b[0m\u001b[0;34m\u001b[0m\u001b[0m\n\u001b[0;32m---> 18\u001b[0;31m \u001b[0mranger\u001b[0m \u001b[0;34m=\u001b[0m \u001b[0mget_all\u001b[0m\u001b[0;34m(\u001b[0m\u001b[0mcode1\u001b[0m\u001b[0;34m.\u001b[0m\u001b[0mformat\u001b[0m\u001b[0;34m(\u001b[0m\u001b[0;36m128\u001b[0m\u001b[0;34m,\u001b[0m\u001b[0;36m128\u001b[0m\u001b[0;34m)\u001b[0m\u001b[0;34m,\u001b[0m\u001b[0mrssi\u001b[0m\u001b[0;34m)\u001b[0m\u001b[0;34m\u001b[0m\u001b[0m\n\u001b[0m\u001b[1;32m     19\u001b[0m \u001b[0mranger2\u001b[0m \u001b[0;34m=\u001b[0m \u001b[0mget_all\u001b[0m\u001b[0;34m(\u001b[0m\u001b[0mcode2\u001b[0m\u001b[0;34m.\u001b[0m\u001b[0mformat\u001b[0m\u001b[0;34m(\u001b[0m\u001b[0;36m128\u001b[0m\u001b[0;34m,\u001b[0m\u001b[0;36m128\u001b[0m\u001b[0;34m)\u001b[0m\u001b[0;34m,\u001b[0m\u001b[0mrssi\u001b[0m\u001b[0;34m)\u001b[0m\u001b[0;34m\u001b[0m\u001b[0m\n\u001b[1;32m     20\u001b[0m \u001b[0mranger_opt\u001b[0m \u001b[0;34m=\u001b[0m \u001b[0mget_all\u001b[0m\u001b[0;34m(\u001b[0m\u001b[0mcode\u001b[0m\u001b[0;34m.\u001b[0m\u001b[0mformat\u001b[0m\u001b[0;34m(\u001b[0m\u001b[0;36m128\u001b[0m\u001b[0;34m,\u001b[0m\u001b[0;36m128\u001b[0m\u001b[0;34m)\u001b[0m\u001b[0;34m,\u001b[0m \u001b[0mrssi\u001b[0m\u001b[0;34m)\u001b[0m\u001b[0;34m\u001b[0m\u001b[0m\n",
      "\u001b[0;32m<ipython-input-252-c6513311d2a0>\u001b[0m in \u001b[0;36mget_all\u001b[0;34m(code, rssi)\u001b[0m\n\u001b[1;32m     14\u001b[0m     \u001b[0mspeeds\u001b[0m \u001b[0;34m=\u001b[0m \u001b[0;34m[\u001b[0m\u001b[0;36m0.00000500\u001b[0m\u001b[0;34m,\u001b[0m\u001b[0;36m0.00001000\u001b[0m\u001b[0;34m,\u001b[0m \u001b[0;36m0.000015\u001b[0m\u001b[0;34m,\u001b[0m \u001b[0;36m0.000020\u001b[0m\u001b[0;34m,\u001b[0m \u001b[0;36m0.000025\u001b[0m\u001b[0;34m]\u001b[0m\u001b[0;34m\u001b[0m\u001b[0m\n\u001b[1;32m     15\u001b[0m     res = [(i,run3(solve_LP)(code, rssi=rssi, proc = p(i)))\n\u001b[0;32m---> 16\u001b[0;31m            for i in speeds]\n\u001b[0m\u001b[1;32m     17\u001b[0m     \u001b[0;32mreturn\u001b[0m \u001b[0;34m[\u001b[0m\u001b[0;34m(\u001b[0m\u001b[0mi\u001b[0m\u001b[0;34m[\u001b[0m\u001b[0;36m0\u001b[0m\u001b[0;34m]\u001b[0m\u001b[0;34m,\u001b[0m\u001b[0mi\u001b[0m\u001b[0;34m[\u001b[0m\u001b[0;36m1\u001b[0m\u001b[0;34m]\u001b[0m\u001b[0;34m)\u001b[0m \u001b[0;32mfor\u001b[0m \u001b[0mi\u001b[0m \u001b[0;32min\u001b[0m \u001b[0mres\u001b[0m\u001b[0;34m]\u001b[0m\u001b[0;34m\u001b[0m\u001b[0m\n\u001b[1;32m     18\u001b[0m \u001b[0mranger\u001b[0m \u001b[0;34m=\u001b[0m \u001b[0mget_all\u001b[0m\u001b[0;34m(\u001b[0m\u001b[0mcode1\u001b[0m\u001b[0;34m.\u001b[0m\u001b[0mformat\u001b[0m\u001b[0;34m(\u001b[0m\u001b[0;36m128\u001b[0m\u001b[0;34m,\u001b[0m\u001b[0;36m128\u001b[0m\u001b[0;34m)\u001b[0m\u001b[0;34m,\u001b[0m\u001b[0mrssi\u001b[0m\u001b[0;34m)\u001b[0m\u001b[0;34m\u001b[0m\u001b[0m\n",
      "\u001b[0;32m<ipython-input-252-c6513311d2a0>\u001b[0m in \u001b[0;36m<listcomp>\u001b[0;34m(.0)\u001b[0m\n\u001b[1;32m     14\u001b[0m     \u001b[0mspeeds\u001b[0m \u001b[0;34m=\u001b[0m \u001b[0;34m[\u001b[0m\u001b[0;36m0.00000500\u001b[0m\u001b[0;34m,\u001b[0m\u001b[0;36m0.00001000\u001b[0m\u001b[0;34m,\u001b[0m \u001b[0;36m0.000015\u001b[0m\u001b[0;34m,\u001b[0m \u001b[0;36m0.000020\u001b[0m\u001b[0;34m,\u001b[0m \u001b[0;36m0.000025\u001b[0m\u001b[0;34m]\u001b[0m\u001b[0;34m\u001b[0m\u001b[0m\n\u001b[1;32m     15\u001b[0m     res = [(i,run3(solve_LP)(code, rssi=rssi, proc = p(i)))\n\u001b[0;32m---> 16\u001b[0;31m            for i in speeds]\n\u001b[0m\u001b[1;32m     17\u001b[0m     \u001b[0;32mreturn\u001b[0m \u001b[0;34m[\u001b[0m\u001b[0;34m(\u001b[0m\u001b[0mi\u001b[0m\u001b[0;34m[\u001b[0m\u001b[0;36m0\u001b[0m\u001b[0;34m]\u001b[0m\u001b[0;34m,\u001b[0m\u001b[0mi\u001b[0m\u001b[0;34m[\u001b[0m\u001b[0;36m1\u001b[0m\u001b[0;34m]\u001b[0m\u001b[0;34m)\u001b[0m \u001b[0;32mfor\u001b[0m \u001b[0mi\u001b[0m \u001b[0;32min\u001b[0m \u001b[0mres\u001b[0m\u001b[0;34m]\u001b[0m\u001b[0;34m\u001b[0m\u001b[0m\n\u001b[1;32m     18\u001b[0m \u001b[0mranger\u001b[0m \u001b[0;34m=\u001b[0m \u001b[0mget_all\u001b[0m\u001b[0;34m(\u001b[0m\u001b[0mcode1\u001b[0m\u001b[0;34m.\u001b[0m\u001b[0mformat\u001b[0m\u001b[0;34m(\u001b[0m\u001b[0;36m128\u001b[0m\u001b[0;34m,\u001b[0m\u001b[0;36m128\u001b[0m\u001b[0;34m)\u001b[0m\u001b[0;34m,\u001b[0m\u001b[0mrssi\u001b[0m\u001b[0;34m)\u001b[0m\u001b[0;34m\u001b[0m\u001b[0m\n",
      "\u001b[0;32m<ipython-input-252-c6513311d2a0>\u001b[0m in \u001b[0;36mrunner\u001b[0;34m(f, *args, **kw)\u001b[0m\n\u001b[1;32m      8\u001b[0m \u001b[0;32mdef\u001b[0m \u001b[0mrun3\u001b[0m\u001b[0;34m(\u001b[0m\u001b[0mf\u001b[0m\u001b[0;34m,\u001b[0m \u001b[0;34m*\u001b[0m\u001b[0margs\u001b[0m\u001b[0;34m,\u001b[0m\u001b[0;34m**\u001b[0m\u001b[0mkw\u001b[0m\u001b[0;34m)\u001b[0m\u001b[0;34m:\u001b[0m\u001b[0;34m\u001b[0m\u001b[0m\n\u001b[1;32m      9\u001b[0m     \u001b[0;32mdef\u001b[0m \u001b[0mrunner\u001b[0m\u001b[0;34m(\u001b[0m\u001b[0mf\u001b[0m\u001b[0;34m,\u001b[0m\u001b[0;34m*\u001b[0m\u001b[0margs\u001b[0m\u001b[0;34m,\u001b[0m\u001b[0;34m**\u001b[0m\u001b[0mkw\u001b[0m\u001b[0;34m)\u001b[0m\u001b[0;34m:\u001b[0m\u001b[0;34m\u001b[0m\u001b[0m\n\u001b[0;32m---> 10\u001b[0;31m         \u001b[0mres\u001b[0m \u001b[0;34m=\u001b[0m \u001b[0;34m[\u001b[0m\u001b[0mf\u001b[0m\u001b[0;34m(\u001b[0m\u001b[0;34m*\u001b[0m\u001b[0margs\u001b[0m\u001b[0;34m,\u001b[0m\u001b[0;34m**\u001b[0m\u001b[0mkw\u001b[0m\u001b[0;34m)\u001b[0m\u001b[0;34m[\u001b[0m\u001b[0;34m'totaltime'\u001b[0m\u001b[0;34m]\u001b[0m \u001b[0;32mfor\u001b[0m \u001b[0mi\u001b[0m \u001b[0;32min\u001b[0m \u001b[0mrange\u001b[0m\u001b[0;34m(\u001b[0m\u001b[0;36m3\u001b[0m\u001b[0;34m)\u001b[0m\u001b[0;34m]\u001b[0m\u001b[0;34m\u001b[0m\u001b[0m\n\u001b[0m\u001b[1;32m     11\u001b[0m         \u001b[0;32mreturn\u001b[0m \u001b[0msum\u001b[0m\u001b[0;34m(\u001b[0m\u001b[0mres\u001b[0m\u001b[0;34m)\u001b[0m\u001b[0;34m/\u001b[0m\u001b[0mlen\u001b[0m\u001b[0;34m(\u001b[0m\u001b[0mres\u001b[0m\u001b[0;34m)\u001b[0m\u001b[0;34m\u001b[0m\u001b[0m\n\u001b[1;32m     12\u001b[0m     \u001b[0;32mreturn\u001b[0m \u001b[0mrunner\u001b[0m\u001b[0;34m\u001b[0m\u001b[0m\n",
      "\u001b[0;32m<ipython-input-252-c6513311d2a0>\u001b[0m in \u001b[0;36m<listcomp>\u001b[0;34m(.0)\u001b[0m\n\u001b[1;32m      8\u001b[0m \u001b[0;32mdef\u001b[0m \u001b[0mrun3\u001b[0m\u001b[0;34m(\u001b[0m\u001b[0mf\u001b[0m\u001b[0;34m,\u001b[0m \u001b[0;34m*\u001b[0m\u001b[0margs\u001b[0m\u001b[0;34m,\u001b[0m\u001b[0;34m**\u001b[0m\u001b[0mkw\u001b[0m\u001b[0;34m)\u001b[0m\u001b[0;34m:\u001b[0m\u001b[0;34m\u001b[0m\u001b[0m\n\u001b[1;32m      9\u001b[0m     \u001b[0;32mdef\u001b[0m \u001b[0mrunner\u001b[0m\u001b[0;34m(\u001b[0m\u001b[0mf\u001b[0m\u001b[0;34m,\u001b[0m\u001b[0;34m*\u001b[0m\u001b[0margs\u001b[0m\u001b[0;34m,\u001b[0m\u001b[0;34m**\u001b[0m\u001b[0mkw\u001b[0m\u001b[0;34m)\u001b[0m\u001b[0;34m:\u001b[0m\u001b[0;34m\u001b[0m\u001b[0m\n\u001b[0;32m---> 10\u001b[0;31m         \u001b[0mres\u001b[0m \u001b[0;34m=\u001b[0m \u001b[0;34m[\u001b[0m\u001b[0mf\u001b[0m\u001b[0;34m(\u001b[0m\u001b[0;34m*\u001b[0m\u001b[0margs\u001b[0m\u001b[0;34m,\u001b[0m\u001b[0;34m**\u001b[0m\u001b[0mkw\u001b[0m\u001b[0;34m)\u001b[0m\u001b[0;34m[\u001b[0m\u001b[0;34m'totaltime'\u001b[0m\u001b[0;34m]\u001b[0m \u001b[0;32mfor\u001b[0m \u001b[0mi\u001b[0m \u001b[0;32min\u001b[0m \u001b[0mrange\u001b[0m\u001b[0;34m(\u001b[0m\u001b[0;36m3\u001b[0m\u001b[0;34m)\u001b[0m\u001b[0;34m]\u001b[0m\u001b[0;34m\u001b[0m\u001b[0m\n\u001b[0m\u001b[1;32m     11\u001b[0m         \u001b[0;32mreturn\u001b[0m \u001b[0msum\u001b[0m\u001b[0;34m(\u001b[0m\u001b[0mres\u001b[0m\u001b[0;34m)\u001b[0m\u001b[0;34m/\u001b[0m\u001b[0mlen\u001b[0m\u001b[0;34m(\u001b[0m\u001b[0mres\u001b[0m\u001b[0;34m)\u001b[0m\u001b[0;34m\u001b[0m\u001b[0m\n\u001b[1;32m     12\u001b[0m     \u001b[0;32mreturn\u001b[0m \u001b[0mrunner\u001b[0m\u001b[0;34m\u001b[0m\u001b[0m\n",
      "\u001b[0;31mTypeError\u001b[0m: 'str' object is not callable"
     ]
    }
   ],
   "source": [
    "rssi = {0:{31:-20}, 31:{0:-20}}\n",
    "def p(i):\n",
    "    return {0:1,31:i}\n",
    "px = {0:1,31:0.000005}\n",
    "code = \"class SenseReduce:\\n    def __init__(self):\\n        self.sensenodes = [[31]]\\n        self.mapnodes = [[31,0]]\\n        self.reducenodes = [[31,0]]\\n        self.l={}\\n    def sampler(self,node):\\n        acc = yield from node.testaccel({})\\n        return (node.ID,acc)\\n    def mapper(self,node,d):\\n        fts = np.fft(d[1]['x'])\\n        c = lambda d: (d.real,d.imag)\\n        yield(0,(d[0],c(fts[6])))\\n    def reducer(self,node,k,vs):\\n        ws = [complex(*i[1]) for i in vs]\\n        G = np.spectral_mat(ws)\\n        eig = np.pagerank(G)\\n        c = lambda d: (round(d.real,2),round(d.imag,2))\\n        ms = [(vs[idx][0],c(el)) for idx,el in enumerate(eig)]\\n        yield(k,ms)\"\n",
    "code1 = \"class SenseReduce:\\n    def __init__(self):\\n        self.sensenodes = [[31]]\\n        self.mapnodes = [[31]]\\n        self.reducenodes = [[31,0]]\\n        self.l={}\\n    def sampler(self,node):\\n        acc = yield from node.testaccel({})\\n        return (node.ID,acc)\\n    def mapper(self,node,d):\\n        fts = np.fft(d[1]['x'])\\n        c = lambda d: (d.real,d.imag)\\n        yield(0,(d[0],c(fts[6])))\\n    def reducer(self,node,k,vs):\\n        ws = [complex(*i[1]) for i in vs]\\n        G = np.spectral_mat(ws)\\n        eig = np.pagerank(G)\\n        c = lambda d: (round(d.real,2),round(d.imag,2))\\n        ms = [(vs[idx][0],c(el)) for idx,el in enumerate(eig)]\\n        yield(k,ms)\"\n",
    "code2=\"class SenseReduce:\\n    def __init__(self):\\n        self.sensenodes = [[31]]\\n        self.mapnodes = [[0]]\\n        self.reducenodes = [[31,0]]\\n        self.l={}\\n    def sampler(self,node):\\n        acc = yield from node.testaccel({})\\n        return (node.ID,acc)\\n    def mapper(self,node,d):\\n        fts = np.fft(d[1]['x'])\\n        c = lambda d: (d.real,d.imag)\\n        yield(0,(d[0],c(fts[6])))\\n    def reducer(self,node,k,vs):\\n        ws = [complex(*i[1]) for i in vs]\\n        G = np.spectral_mat(ws)\\n        eig = np.pagerank(G)\\n        c = lambda d: (round(d.real,2),round(d.imag,2))\\n        ms = [(vs[idx][0],c(el)) for idx,el in enumerate(eig)]\\n        yield(k,ms)\"\n",
    "def run3(f, *args,**kw):\n",
    "    def runner(f,*args,**kw):\n",
    "        res = [f(*args,**kw)['totaltime'] for i in range(3)]\n",
    "        print('res: ',res)\n",
    "        return sum(res)/len(res)\n",
    "    return runner\n",
    "def get_all(code,rssi):\n",
    "    speeds = [0.00000500,0.00001000, 0.000015, 0.000020, 0.000025] \n",
    "    res = [(i,run3(solve_LP)(code, rssi=rssi, proc = p(i)))\n",
    "           for i in speeds]\n",
    "    return [(i[0],i[1]) for i in res]\n",
    "ranger = get_all(code1.format(128,128),rssi)\n",
    "ranger2 = get_all(code2.format(128,128),rssi)\n",
    "ranger_opt = get_all(code.format(128,128), rssi)"
   ]
  },
  {
   "cell_type": "code",
   "execution_count": 248,
   "metadata": {},
   "outputs": [
    {
     "data": {
      "image/png": "[encoded data removed]",
      "text/plain": [
       "<matplotlib.figure.Figure at 0x7ff8dbb4a048>"
      ]
     },
     "metadata": {},
     "output_type": "display_data"
    }
   ],
   "source": [
    "fig, ax = plt.subplots(1)\n",
    "ax.plot([x[0] for x in ranger], [y[1] for y in ranger], c='b', linewidth=0.1, marker='o')\n",
    "ax.plot([x[0] for x in ranger2], [y[1] for y in ranger2], c='r',linewidth=0.1, marker='o')\n",
    "ax.plot([x[0] for x in ranger2], [y[1] for y in ranger_opt], c='k',linewidth=0.1, marker='o')\n",
    "sns.despine()"
   ]
  },
  {
   "cell_type": "code",
   "execution_count": 242,
   "metadata": {},
   "outputs": [
    {
     "data": {
      "text/plain": [
       "[{'K': [0], 'M': [31], 'R': [0], 'S': [31]},\n",
       " {'K': [0], 'M': [31], 'R': [0], 'S': [31]},\n",
       " {'K': [0], 'M': [31], 'R': [0], 'S': [31]},\n",
       " {'K': [0], 'M': [31], 'R': [0], 'S': [31]},\n",
       " {'K': [0], 'M': [31], 'R': [0], 'S': [31]}]"
      ]
     },
     "execution_count": 242,
     "metadata": {},
     "output_type": "execute_result"
    }
   ],
   "source": [
    "sols"
   ]
  },
  {
   "cell_type": "code",
   "execution_count": 212,
   "metadata": {},
   "outputs": [
    {
     "data": {
      "text/plain": [
       "[{'K': [0], 'M': [0], 'R': [0], 'S': [31]},\n",
       " {'K': [0], 'M': [0], 'R': [0], 'S': [31]},\n",
       " {'K': [0], 'M': [0], 'R': [0], 'S': [31]},\n",
       " {'K': [0], 'M': [0], 'R': [0], 'S': [31]},\n",
       " {'K': [0], 'M': [0], 'R': [0], 'S': [31]}]"
      ]
     },
     "execution_count": 212,
     "metadata": {},
     "output_type": "execute_result"
    }
   ],
   "source": [
    "sols2"
   ]
  },
  {
   "cell_type": "code",
   "execution_count": 226,
   "metadata": {},
   "outputs": [
    {
     "data": {
      "text/plain": [
       "[{'K': [0], 'M': [0], 'R': [0], 'S': [31]},\n",
       " {'K': [0], 'M': [31], 'R': [0], 'S': [31]},\n",
       " {'K': [0], 'M': [31], 'R': [0], 'S': [31]},\n",
       " {'K': [0], 'M': [31], 'R': [0], 'S': [31]},\n",
       " {'K': [0], 'M': [31], 'R': [0], 'S': [31]}]"
      ]
     },
     "execution_count": 226,
     "metadata": {},
     "output_type": "execute_result"
    }
   ],
   "source": [
    "sols_opt"
   ]
  },
  {
   "cell_type": "code",
   "execution_count": null,
   "metadata": {
    "collapsed": true
   },
   "outputs": [],
   "source": []
  }
 ],
 "metadata": {
  "kernelspec": {
   "display_name": "Python 3",
   "language": "python",
   "name": "python3"
  },
  "language_info": {
   "codemirror_mode": {
    "name": "ipython",
    "version": 3
   },
   "file_extension": ".py",
   "mimetype": "text/x-python",
   "name": "python",
   "nbconvert_exporter": "python",
   "pygments_lexer": "ipython3",
   "version": "3.4.3"
  }
 },
 "nbformat": 4,
 "nbformat_minor": 2
}
