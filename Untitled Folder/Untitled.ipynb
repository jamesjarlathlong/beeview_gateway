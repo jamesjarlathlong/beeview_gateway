{
 "cells": [
  {
   "cell_type": "code",
   "execution_count": 69,
   "metadata": {},
   "outputs": [],
   "source": [
    "import pandas as pd\n",
    "import translation_dicts as t_dicts\n",
    "our_dict = dict([(k[0:-1],v[0:-1]) for k,v in t_dicts.namer_dict.items()])\n",
    "import math\n",
    "import json"
   ]
  },
  {
   "cell_type": "code",
   "execution_count": 63,
   "metadata": {},
   "outputs": [],
   "source": [
    "big_file = pd.read_csv('BL_pink_04_2000Hz.csv')"
   ]
  },
  {
   "cell_type": "code",
   "execution_count": null,
   "metadata": {},
   "outputs": [],
   "source": []
  },
  {
   "cell_type": "code",
   "execution_count": 70,
   "metadata": {},
   "outputs": [],
   "source": [
    "def extract(big_f,node_num,starting_point,translation):\n",
    "    actual_num = translation[str(node_num)]\n",
    "    axes = ['x','y','z']\n",
    "    res = {}\n",
    "    for ax in axes:\n",
    "        result = list(big_f[actual_num+ax][starting_point::])\n",
    "        assert not math.isnan(result[0])\n",
    "        res[ax] = result\n",
    "    return res\n",
    "def write_all(big_f, translation):\n",
    "    wireless = [21,22,17,18,29,55,56,58,60,61,63,64,41,43,44,46,49,53,68,31,32,15,37,39,40,69,96,95]\n",
    "    for node in wireless:\n",
    "        d = extract(big_f, node, 0,translation)\n",
    "        with open('192.168.123.{}.json'.format(node), 'w') as outfile:\n",
    "            json.dump(d, outfile)"
   ]
  },
  {
   "cell_type": "code",
   "execution_count": 71,
   "metadata": {},
   "outputs": [],
   "source": [
    "write_all(big_file,our_dict)"
   ]
  },
  {
   "cell_type": "code",
   "execution_count": 57,
   "metadata": {},
   "outputs": [
    {
     "data": {
      "text/plain": [
       "{'15': '40',\n",
       " '17': '44',\n",
       " '18': '46',\n",
       " '20': '20',\n",
       " '21': '31',\n",
       " '22': '33',\n",
       " '23': '35',\n",
       " '24': '22',\n",
       " '25': '42',\n",
       " '27': '38',\n",
       " '29': '48',\n",
       " '30': '43',\n",
       " '31': '37',\n",
       " '32': '45',\n",
       " '33': '47',\n",
       " '36': '13',\n",
       " '37': '15',\n",
       " '38': '26',\n",
       " '39': '17',\n",
       " '40': '19',\n",
       " '41': '14',\n",
       " '42': '25',\n",
       " '43': '16',\n",
       " '44': '18',\n",
       " '45': '27',\n",
       " '46': '1',\n",
       " '47': '3',\n",
       " '49': '9',\n",
       " '5': '11',\n",
       " '52': '5',\n",
       " '53': '7',\n",
       " '54': '2',\n",
       " '55': '8',\n",
       " '56': '4',\n",
       " '58': '6',\n",
       " '59': '10',\n",
       " '6': '28',\n",
       " '60': '30',\n",
       " '61': '32',\n",
       " '62': '21',\n",
       " '63': '34',\n",
       " '64': '36',\n",
       " '65': '41',\n",
       " '66': '23',\n",
       " '67': '24',\n",
       " '68': '12',\n",
       " '69': '29',\n",
       " '7': '39',\n",
       " '95': '43',\n",
       " '96': '24'}"
      ]
     },
     "execution_count": 57,
     "metadata": {},
     "output_type": "execute_result"
    }
   ],
   "source": [
    "with open('192.168.123.{}.json'.format(17)) as infile:\n",
    "    d = json.load(file)"
   ]
  },
  {
   "cell_type": "code",
   "execution_count": null,
   "metadata": {},
   "outputs": [],
   "source": []
  },
  {
   "cell_type": "code",
   "execution_count": null,
   "metadata": {
    "collapsed": true
   },
   "outputs": [],
   "source": []
  }
 ],
 "metadata": {
  "kernelspec": {
   "display_name": "Python 3",
   "language": "python",
   "name": "python3"
  },
  "language_info": {
   "codemirror_mode": {
    "name": "ipython",
    "version": 3
   },
   "file_extension": ".py",
   "mimetype": "text/x-python",
   "name": "python",
   "nbconvert_exporter": "python",
   "pygments_lexer": "ipython3",
   "version": "3.4.3"
  }
 },
 "nbformat": 4,
 "nbformat_minor": 2
}
