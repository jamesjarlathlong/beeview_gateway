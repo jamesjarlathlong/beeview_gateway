{
 "cells": [
  {
   "cell_type": "code",
   "execution_count": 69,
   "metadata": {},
   "outputs": [],
   "source": [
    "import pandas as pd\n",
    "import translation_dicts as t_dicts\n",
    "our_dict = dict([(k[0:-1],v[0:-1]) for k,v in t_dicts.namer_dict.items()])\n",
    "import math\n",
    "import json"
   ]
  },
  {
   "cell_type": "code",
   "execution_count": 63,
   "metadata": {},
   "outputs": [],
   "source": [
    "big_file = pd.read_csv('BL_pink_04_2000Hz.csv')"
   ]
  },
  {
   "cell_type": "code",
   "execution_count": null,
   "metadata": {},
   "outputs": [],
   "source": []
  },
  {
   "cell_type": "code",
   "execution_count": 70,
   "metadata": {},
   "outputs": [],
   "source": [
    "def extract(big_f,node_num,starting_point,translation):\n",
    "    actual_num = translation[str(node_num)]\n",
    "    axes = ['x','y','z']\n",
    "    res = {}\n",
    "    for ax in axes:\n",
    "        result = list(big_f[actual_num+ax][starting_point::])\n",
    "        assert not math.isnan(result[0])\n",
    "        res[ax] = result\n",
    "    return res\n",
    "def write_all(big_f, translation):\n",
    "    wireless = [21,22,17,18,29,55,56,58,60,61,63,64,41,43,44,46,49,53,68,31,32,15,37,39,40,69,96,95]\n",
    "    for node in wireless:\n",
    "        d = extract(big_f, node, 0,translation)\n",
    "        with open('192.168.123.{}.json'.format(node), 'w') as outfile:\n",
    "            json.dump(d, outfile)"
   ]
  },
  {
   "cell_type": "code",
   "execution_count": 71,
   "metadata": {},
   "outputs": [],
   "source": [
    "write_all(big_file,our_dict)"
   ]
  },
  {
   "cell_type": "code",
   "execution_count": 72,
   "metadata": {},
   "outputs": [],
   "source": [
    "with open('192.168.123.{}.json'.format(17)) as infile:\n",
    "    d = json.load(infile)"
   ]
  },
  {
   "cell_type": "code",
   "execution_count": 76,
   "metadata": {},
   "outputs": [
    {
     "data": {
      "text/plain": [
       "10001"
      ]
     },
     "execution_count": 76,
     "metadata": {},
     "output_type": "execute_result"
    }
   ],
   "source": [
    "len(d['z'])"
   ]
  },
  {
   "cell_type": "code",
   "execution_count": null,
   "metadata": {
    "collapsed": true
   },
   "outputs": [],
   "source": []
  }
 ],
 "metadata": {
  "kernelspec": {
   "display_name": "Python 3",
   "language": "python",
   "name": "python3"
  },
  "language_info": {
   "codemirror_mode": {
    "name": "ipython",
    "version": 3
   },
   "file_extension": ".py",
   "mimetype": "text/x-python",
   "name": "python",
   "nbconvert_exporter": "python",
   "pygments_lexer": "ipython3",
   "version": "3.4.3"
  }
 },
 "nbformat": 4,
 "nbformat_minor": 2
}
