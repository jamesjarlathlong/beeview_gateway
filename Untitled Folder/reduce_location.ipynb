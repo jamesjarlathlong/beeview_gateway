{
 "cells": [
  {
   "cell_type": "code",
   "execution_count": 11,
   "metadata": {},
   "outputs": [
    {
     "ename": "AttributeError",
     "evalue": "'module' object has no attribute 'helper'",
     "output_type": "error",
     "traceback": [
      "\u001b[0;31m---------------------------------------------------------------------------\u001b[0m",
      "\u001b[0;31mAttributeError\u001b[0m                            Traceback (most recent call last)",
      "\u001b[0;32m<ipython-input-11-e08ace3b5dfd>\u001b[0m in \u001b[0;36m<module>\u001b[0;34m()\u001b[0m\n\u001b[1;32m     12\u001b[0m \u001b[0;32mimport\u001b[0m \u001b[0msys\u001b[0m\u001b[0;34m\u001b[0m\u001b[0m\n\u001b[1;32m     13\u001b[0m \u001b[0msys\u001b[0m\u001b[0;34m.\u001b[0m\u001b[0mpath\u001b[0m\u001b[0;34m.\u001b[0m\u001b[0mappend\u001b[0m\u001b[0;34m(\u001b[0m\u001b[0;34m'/home/jjlong/dag-plan/'\u001b[0m\u001b[0;34m)\u001b[0m\u001b[0;34m\u001b[0m\u001b[0m\n\u001b[0;32m---> 14\u001b[0;31m \u001b[0;32mfrom\u001b[0m \u001b[0mapp\u001b[0m\u001b[0;34m.\u001b[0m\u001b[0mdag_solver\u001b[0m \u001b[0;32mimport\u001b[0m \u001b[0msolve_DAG\u001b[0m\u001b[0;34m\u001b[0m\u001b[0m\n\u001b[0m",
      "\u001b[0;32m/home/jjlong/dag-plan/app/__init__.py\u001b[0m in \u001b[0;36m<module>\u001b[0;34m()\u001b[0m\n\u001b[1;32m      5\u001b[0m \u001b[0;31m#from flask.ext.sqlalchemy import SQLAlchemy\u001b[0m\u001b[0;34m\u001b[0m\u001b[0;34m\u001b[0m\u001b[0m\n\u001b[1;32m      6\u001b[0m \u001b[0;31m#db = SQLAlchemy(app)\u001b[0m\u001b[0;34m\u001b[0m\u001b[0;34m\u001b[0m\u001b[0m\n\u001b[0;32m----> 7\u001b[0;31m \u001b[0;32mfrom\u001b[0m \u001b[0mapp\u001b[0m \u001b[0;32mimport\u001b[0m \u001b[0mviews\u001b[0m\u001b[0;34m\u001b[0m\u001b[0m\n\u001b[0m",
      "\u001b[0;32m/home/jjlong/dag-plan/app/views.py\u001b[0m in \u001b[0;36m<module>\u001b[0;34m()\u001b[0m\n\u001b[1;32m      4\u001b[0m \u001b[0;32mimport\u001b[0m \u001b[0mjson\u001b[0m\u001b[0;34m\u001b[0m\u001b[0m\n\u001b[1;32m      5\u001b[0m \u001b[0;32mimport\u001b[0m \u001b[0mfunctools\u001b[0m\u001b[0;34m\u001b[0m\u001b[0m\n\u001b[0;32m----> 6\u001b[0;31m \u001b[0;32mimport\u001b[0m \u001b[0mapp\u001b[0m\u001b[0;34m.\u001b[0m\u001b[0mdag_former\u001b[0m \u001b[0;32mas\u001b[0m \u001b[0mdag_former\u001b[0m\u001b[0;34m\u001b[0m\u001b[0m\n\u001b[0m\u001b[1;32m      7\u001b[0m \u001b[0;32mimport\u001b[0m \u001b[0mapp\u001b[0m\u001b[0;34m.\u001b[0m\u001b[0mdag_solver\u001b[0m \u001b[0;32mas\u001b[0m \u001b[0mdag_solver\u001b[0m\u001b[0;34m\u001b[0m\u001b[0m\n\u001b[1;32m      8\u001b[0m \u001b[0;32mimport\u001b[0m \u001b[0mapp\u001b[0m\u001b[0;34m.\u001b[0m\u001b[0mbandwidth_calculator\u001b[0m \u001b[0;32mas\u001b[0m \u001b[0mbandwidth\u001b[0m\u001b[0;34m\u001b[0m\u001b[0m\n",
      "\u001b[0;32m/home/jjlong/dag-plan/app/dag_former.py\u001b[0m in \u001b[0;36m<module>\u001b[0;34m()\u001b[0m\n\u001b[1;32m      1\u001b[0m \u001b[0;32mimport\u001b[0m \u001b[0mfunctools\u001b[0m\u001b[0;34m\u001b[0m\u001b[0m\n\u001b[0;32m----> 2\u001b[0;31m \u001b[0;32mimport\u001b[0m \u001b[0mapp\u001b[0m\u001b[0;34m.\u001b[0m\u001b[0mhelper\u001b[0m \u001b[0;32mas\u001b[0m \u001b[0mhelper\u001b[0m\u001b[0;34m\u001b[0m\u001b[0m\n\u001b[0m\u001b[1;32m      3\u001b[0m \u001b[0;32mfrom\u001b[0m \u001b[0mapp\u001b[0m\u001b[0;34m.\u001b[0m\u001b[0mnode_emulator\u001b[0m \u001b[0;32mimport\u001b[0m \u001b[0mjob_profiler\u001b[0m\u001b[0;34m\u001b[0m\u001b[0m\n\u001b[1;32m      4\u001b[0m \u001b[0;32mimport\u001b[0m \u001b[0mtime\u001b[0m\u001b[0;34m\u001b[0m\u001b[0m\n\u001b[1;32m      5\u001b[0m \u001b[0;32mfrom\u001b[0m \u001b[0mapp\u001b[0m \u001b[0;32mimport\u001b[0m \u001b[0mnp\u001b[0m\u001b[0;34m\u001b[0m\u001b[0m\n",
      "\u001b[0;31mAttributeError\u001b[0m: 'module' object has no attribute 'helper'"
     ]
    }
   ],
   "source": [
    "import seaborn as sns\n",
    "import pandas as pd\n",
    "import matplotlib\n",
    "import matplotlib.pyplot as plt\n",
    "%matplotlib inline\n",
    "import itertools\n",
    "import json\n",
    "import math\n",
    "with open('../dag_stats') as f:\n",
    "    dags= [json.loads(line) for line in f]\n",
    "filtered = [i for i in dags if i.get('code')]\n",
    "import sys\n",
    "sys.path.append('/home/jjlong/dag-plan/')\n",
    "from dag_plan.app.dag_solver import solve_DAG"
   ]
  },
  {
   "cell_type": "code",
   "execution_count": 8,
   "metadata": {},
   "outputs": [
    {
     "data": {
      "text/plain": [
       "{'bw': {'0': {'0': 1e-06,\n",
       "   '17': 22.932349320145992,\n",
       "   '21': 55.56149762232932,\n",
       "   '29': 120.40289975054777,\n",
       "   '31': 186.94716285844075,\n",
       "   '44': 40.71346553810591,\n",
       "   '56': 120.40289975054777,\n",
       "   '60': 55.56149762232932,\n",
       "   '61': 20.9228866925213},\n",
       "  '17': {'17': 1e-06},\n",
       "  '21': {'21': 1e-06},\n",
       "  '29': {'29': 1e-06},\n",
       "  '31': {'31': 1e-06},\n",
       "  '44': {'44': 1e-06},\n",
       "  '56': {'56': 1e-06},\n",
       "  '60': {'60': 1e-06},\n",
       "  '61': {'61': 1e-06}},\n",
       " 'code': \"class SenseReduce:\\n    def __init__(self):\\n        self.sensenodes = [99]\\n        self.mapnodes = [99]\\n        self.reducenodes = [99]\\n        self.l=512\\n    def sampler(self,node):\\n        acc = yield from node.testaccel(512)\\n        return (node.ID,acc)\\n    def mapper(self,node,d):\\n        fts = np.fft(d[1]['x'])\\n        c = lambda d: (d.real,d.imag)\\n        yield(0,(d[0],c(fts[6])))\\n    def reducer(self,node,k,vs):\\n        ws = [complex(*i[1]) for i in vs]\\n        G = np.spectral_mat(ws)\\n        eig = np.pagerank(G)\\n        c = lambda d: (d.real,d.imag)\\n        ms = [(vs[idx][0],c(el)) for idx,el in enumerate(eig)]\\n        yield(k,ms)\",\n",
       " 'graph': {'K_0': {'children': [],\n",
       "   'edge_w': {},\n",
       "   'node_w': 0,\n",
       "   'parents': ['R_0']},\n",
       "  'M_0': {'children': ['R_0'],\n",
       "   'edge_w': {'0': 51},\n",
       "   'node_w': 0.0,\n",
       "   'parents': 'S_0'},\n",
       "  'R_0': {'children': ['K_0'],\n",
       "   'edge_w': {'0': 55},\n",
       "   'node_w': 0.0,\n",
       "   'parents': ['M_0']},\n",
       "  'S_0': {'children': ['M_0'],\n",
       "   'edge_w': {'0': 32169},\n",
       "   'node_w': 370.02944441394465}},\n",
       " 'job': 'jjlong@mit.edu0919b',\n",
       " 'px': {'0': 1},\n",
       " 'sol': {'K': [0], 'M': [0], 'R': [0], 'S': [0]},\n",
       " 'totaltime': 370.0617194139446}"
      ]
     },
     "execution_count": 8,
     "metadata": {},
     "output_type": "execute_result"
    }
   ],
   "source": [
    "filtered[0]"
   ]
  },
  {
   "cell_type": "code",
   "execution_count": null,
   "metadata": {
    "collapsed": true
   },
   "outputs": [],
   "source": []
  }
 ],
 "metadata": {
  "kernelspec": {
   "display_name": "Python 3",
   "language": "python",
   "name": "python3"
  },
  "language_info": {
   "codemirror_mode": {
    "name": "ipython",
    "version": 3
   },
   "file_extension": ".py",
   "mimetype": "text/x-python",
   "name": "python",
   "nbconvert_exporter": "python",
   "pygments_lexer": "ipython3",
   "version": "3.4.3"
  }
 },
 "nbformat": 4,
 "nbformat_minor": 2
}
