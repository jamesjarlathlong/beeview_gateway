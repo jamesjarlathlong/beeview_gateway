{
 "cells": [
  {
   "cell_type": "code",
   "execution_count": 1,
   "metadata": {
    "collapsed": true
   },
   "outputs": [],
   "source": [
    "import seaborn as sns\n",
    "import pandas as pd\n",
    "import matplotlib\n",
    "import matplotlib.pyplot as plt\n",
    "%matplotlib inline\n",
    "import itertools\n",
    "import json\n",
    "import math\n",
    "with open('tx_stats') as f:\n",
    "    data = [json.loads(line) for line in f]"
   ]
  },
  {
   "cell_type": "code",
   "execution_count": 2,
   "metadata": {},
   "outputs": [],
   "source": [
    "def counter(num_retries):\n",
    "    return [0] if num_retries ==0 else num_retries*[1]+[0]\n",
    "def percent_retry(msg):\n",
    "    filtered = list(itertools.chain(*[counter(i['retries']) for i in msg['stats'] if i['level'] == 0]))\n",
    "    other = list(itertools.chain(*[counter(i['level']*1) for i in msg['stats'] if i['level']>0]))\n",
    "    combined = filtered+other\n",
    "    val = sum(combined)/len(combined)\n",
    "    return val\n",
    "def rssi_vs_fail(all_data):\n",
    "    filtered = [i for i in all_data if i]\n",
    "    maybe_norssi = [(i.get('rssi'),percent_retry(i)) for i in filtered]\n",
    "    return [i for i in maybe_norssi if i[0]]\n",
    "def sigmoid():\n",
    "    vals = range(20,70)\n",
    "    def sig(rssi,failure_when_perfect):\n",
    "        return 1-(1-failure_when_perfect)/(1+math.exp(-0.5*(62.5+rssi)))\n",
    "    return vals, [sig(-1*i,0.01) for i in vals]"
   ]
  },
  {
   "cell_type": "code",
   "execution_count": 3,
   "metadata": {},
   "outputs": [],
   "source": [
    "rssi_corr = pd.DataFrame(rssi_vs_fail(data),columns=['rssi', 'pf'])\n",
    "theory = sigmoid()"
   ]
  },
  {
   "cell_type": "code",
   "execution_count": 20,
   "metadata": {},
   "outputs": [
    {
     "name": "stderr",
     "output_type": "stream",
     "text": [
      "/usr/local/lib/python3.4/dist-packages/matplotlib/font_manager.py:1297: UserWarning: findfont: Font family ['sans-serif'] not found. Falling back to DejaVu Sans\n",
      "  (prop.get_family(), self.defaultFamily[fontext]))\n"
     ]
    },
    {
     "data": {
      "text/plain": [
       "<matplotlib.figure.Figure at 0x7f015074fda0>"
      ]
     },
     "metadata": {},
     "output_type": "display_data"
    },
    {
     "data": {
      "image/png": "[encoded data removed]",
      "text/plain": [
       "<matplotlib.figure.Figure at 0x7f015074f630>"
      ]
     },
     "metadata": {},
     "output_type": "display_data"
    }
   ],
   "source": [
    "#sns.set_style('white')\n",
    "sns.despine(right=True)\n",
    "fig,ax =plt.subplots(1)\n",
    "ax.scatter(-1*rssi_corr['rssi'],rssi_corr['pf'], label = 'observed')\n",
    "ax.plot([-1*i for i in theory[0]],theory[1], linewidth = 3,color = 'r', label='sigmoid')\n",
    "ax.set_xlabel('rssi (dB)')\n",
    "ax.set_ylabel('Probability of failure')\n",
    "ax.legend()\n",
    "ax.set_xlim(ax.get_xlim()[::-1]) \n",
    "fig.savefig('rssi')"
   ]
  },
  {
   "cell_type": "code",
   "execution_count": null,
   "metadata": {},
   "outputs": [],
   "source": []
  },
  {
   "cell_type": "code",
   "execution_count": null,
   "metadata": {
    "collapsed": true
   },
   "outputs": [],
   "source": []
  }
 ],
 "metadata": {
  "kernelspec": {
   "display_name": "Python 3",
   "language": "python",
   "name": "python3"
  },
  "language_info": {
   "codemirror_mode": {
    "name": "ipython",
    "version": 3
   },
   "file_extension": ".py",
   "mimetype": "text/x-python",
   "name": "python",
   "nbconvert_exporter": "python",
   "pygments_lexer": "ipython3",
   "version": "3.4.3"
  }
 },
 "nbformat": 4,
 "nbformat_minor": 2
}
