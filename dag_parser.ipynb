{
 "cells": [
  {
   "cell_type": "code",
   "execution_count": 16,
   "metadata": {},
   "outputs": [],
   "source": [
    "import json\n",
    "from copy import deepcopy\n",
    "with open('dag_stats', \"r\") as f1:\n",
    "    last_line = f1.readlines()[-1]\n",
    "    d = json.loads(last_line)"
   ]
  },
  {
   "cell_type": "code",
   "execution_count": 15,
   "metadata": {},
   "outputs": [
    {
     "name": "stdout",
     "output_type": "stream",
     "text": [
      "sol:  {'R': [31], 'S': [31], 'K': [0], 'M': [31]}\n",
      "bw:  {'31': {'31': 0.0, '96': 7.58, '0': 11.15}, '96': {'96': 0.0, '0': 23.61}, '0': {'0': 0.0}}\n",
      "px:  {'31': 0.016814632983291354, '96': 0.018133857608359397, '0': 0.012490545076556062}\n",
      "g:  {'K_0': {'children': [], 'parents': ['R_0'], 'node_w': 0, 'edge_w': {}}, 'M_0': {'children': ['R_0'], 'parents': 'S_0', 'node_w': 0.6049999999999667, 'edge_w': {'0': 100}}, 'R_0': {'children': ['K_0'], 'parents': ['M_0'], 'node_w': 0.003999999999892978, 'edge_w': {'0': 102}}, 'S_0': {'children': ['M_0'], 'node_w': 85.97258948605398, 'edge_w': {'0': 1381}}}\n"
     ]
    }
   ],
   "source": [
    "print('sol: ',d['sol'])\n",
    "print('bw: ',d['bw'])\n",
    "print('px: ',d['px'])\n",
    "print('g: ', d['graph'])"
   ]
  },
  {
   "cell_type": "code",
   "execution_count": 68,
   "metadata": {},
   "outputs": [
    {
     "name": "stdout",
     "output_type": "stream",
     "text": [
      "0 {'edge_w': {}, 'node_w': 0.0, 'name': 'K_0'}\n",
      "31 {'edge_w': {'31': 0.0}, 'node_w': 35.980565296973964, 'name': 'M_0'}\n",
      "31 {'edge_w': {'0': 1137.3}, 'node_w': 0.23788803501496375, 'name': 'R_0'}\n",
      "31 {'edge_w': {'31': 0.0}, 'node_w': 5112.962594633178, 'name': 'S_0'}\n"
     ]
    }
   ],
   "source": [
    "#want the final structure to look like\n",
    "#[('31',{'name':'S_0','node_w':0.5,'edge_w':{'31':3.2}})\n",
    "# ,('0',_)]\n",
    "def reformat_edge(level, edgedict, solution):  \n",
    "        def get_target_node(solution,level,index):\n",
    "            nextlevel = {'S':'M','M':'R','R':'K'}\n",
    "            target_node_level = nextlevel.get(level)\n",
    "            target_node_idx = int(index)\n",
    "            return str(solution[target_node_level][target_node_idx])\n",
    "        return {get_target_node(solution, level,k):v \n",
    "                for k,v in edgedict.items()}\n",
    "def reformat_entry(graph_key,graph_value, solution):\n",
    "    \"\"\"graph ley value  is like:'K_0', {'children': [], 'parents': ['R_0'], 'node_w': 0, 'edge_w': {'0':1381}}\n",
    "    solution is like {'R': [31,21], 'S': [31,21], 'K': [0], 'M': [31]}\n",
    "    result we want it like '31':{'name':'S_0','node_w':0.5,'edge_w':{'31':3.2}}\"\"\"\n",
    "    level, index = graph_key.split('_')\n",
    "    node = str(solution[level][int(index)])\n",
    "    new_graph = {'name':graph_key}\n",
    "    new_graph['node_w'] = graph_value.get('node_w')\n",
    "    new_graph['edge_w'] = reformat_edge(level, graph_value.get('edge_w'), solution)\n",
    "    return node, new_graph\n",
    "def reformat(solution, graph):\n",
    "    return [reformat_entry(k,v,solution) for k,v in graph.items()]\n",
    "def nodew_translator(k, entry, px):\n",
    "    speed = px.get(k)\n",
    "    new_entry = deepcopy(entry)\n",
    "    new_entry['node_w'] = new_entry['node_w']/speed\n",
    "    return new_entry\n",
    "def translate_nodeweights(px,graph_list):\n",
    "    \"\"\"graph_list is like [('0', {'edge_w': {}, 'name': 'K_0', 'node_w': 0}),\n",
    "     ('31', {'edge_w': {'31': 100}, 'name': 'M_0', 'node_w': 0.6049999999999667})]\n",
    "     \"\"\"\n",
    "    return [(k,nodew_translator(k,v,px)) for k,v in graph_list]\n",
    "def edgew_translator(source_node, entry, bw):\n",
    "    edgeweight_dict = entry['edge_w']\n",
    "    new_edgeweights = {target_node:volume*bw[source_node][target_node] \n",
    "                       for target_node,volume\n",
    "                       in edgeweight_dict.items()}\n",
    "    new_entry = deepcopy(entry)\n",
    "    new_entry['edge_w'] = new_edgeweights\n",
    "    return new_entry\n",
    "def translate_edgeweights(bw, graph_list):\n",
    "    return [(k, edgew_translator(k, v, bw)) for k,v in graph_list]\n",
    "parsed = translate_edgeweights(d['bw'],translate_nodeweights(d['px'],reformat(d['sol'],d['graph'])))\n",
    "for k,v in parsed:\n",
    "    print(k,v)"
   ]
  },
  {
   "cell_type": "code",
   "execution_count": null,
   "metadata": {},
   "outputs": [],
   "source": []
  },
  {
   "cell_type": "code",
   "execution_count": null,
   "metadata": {},
   "outputs": [],
   "source": []
  },
  {
   "cell_type": "code",
   "execution_count": null,
   "metadata": {},
   "outputs": [],
   "source": []
  }
 ],
 "metadata": {
  "kernelspec": {
   "display_name": "Python 3",
   "language": "python",
   "name": "python3"
  },
  "language_info": {
   "codemirror_mode": {
    "name": "ipython",
    "version": 3
   },
   "file_extension": ".py",
   "mimetype": "text/x-python",
   "name": "python",
   "nbconvert_exporter": "python",
   "pygments_lexer": "ipython3",
   "version": "3.5.2"
  }
 },
 "nbformat": 4,
 "nbformat_minor": 2
}
